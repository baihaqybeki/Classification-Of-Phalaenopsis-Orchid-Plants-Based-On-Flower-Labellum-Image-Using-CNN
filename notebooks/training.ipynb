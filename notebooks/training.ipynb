{
 "cells": [
  {
   "cell_type": "code",
   "execution_count": null,
   "metadata": {
    "colab": {
     "base_uri": "https://localhost:8080/"
    },
    "id": "tyk2xgydTdS-",
    "outputId": "927b59d6-3bac-49df-b63c-2a9914bb1345"
   },
   "outputs": [
    {
     "name": "stdout",
     "output_type": "stream",
     "text": [
      "Mounted at /content/drive/\n"
     ]
    }
   ],
   "source": [
    "## Connect google colab with google drive\n",
    "from google.colab import drive\n",
    "drive.mount(\"/content/drive/\")"
   ]
  },
  {
   "cell_type": "code",
   "execution_count": null,
   "metadata": {
    "id": "ZkI3ta18RJs3"
   },
   "outputs": [],
   "source": [
    "#Membuat dataset dari list file di dalam folder training\n",
    "\n",
    "import pandas as pd\n",
    "import glob\n",
    "import os\n",
    "from sklearn.model_selection import train_test_split\n",
    "\n",
    "def make_csv(x,y,name_csv):\n",
    "    \"\"\"function untuk membuat csv dari dictionary\"\"\"\n",
    "    df = {\"images_id\":x,\"labels\":y}\n",
    "    df = pd.DataFrame(df)\n",
    "    df.to_csv(name_csv,index=False)\\\n",
    "\n",
    "class_list = [\"training/CC\",\"training/L\"] # List directory dari folder images\n",
    "\n",
    "image_paths = [] # list images path untuk membuat dictionary\n",
    "label_list = [] # list label dari images path untuk membuat dictionary\n",
    "    \n",
    "for class in class_list:\n",
    "    img_list = os.listdir(class)\n",
    "    for i,img in enumerate(img_list):\n",
    "        img_list[i] = class+\"/\"+img\n",
    "        kelas = class.replace(\"training/\",\"\")\n",
    "        label_list.append(kelas)\n",
    "    image_paths = image_paths + img_list\n",
    "\n",
    "\n",
    "df = {\"images_id\":image_paths,\"labels\":label_list} # Dictionary untuk membuat file csv\n",
    "df = pd.DataFrame(df)\n",
    "\n",
    "df = df.sample(frac=1).reset_index(drop=True) # Mengambil sample 100% dari dataset untuk randomize csv sebelum di split\n",
    "\n",
    "x = df.images_id\n",
    "y = df.labels\n",
    "\n",
    "x_train,x_test,y_train,y_test = train_test_split(x,y,test_size = 0.15,stratify=y) # split dataset untuk training dan testing\n",
    "\n",
    "make_csv(x_train,y_train,\"train.csv\")\n",
    "make_csv(x_test,y_test,\"test.csv\")"
   ]
  },
  {
   "cell_type": "code",
   "execution_count": null,
   "metadata": {
    "id": "xbu859A6L1f-"
   },
   "outputs": [],
   "source": [
    "!mkdir training\n",
    "!unzip /content/drive/MyDrive/training.zip -d /content/training"
   ]
  },
  {
   "cell_type": "code",
   "execution_count": null,
   "metadata": {
    "id": "sy3WEcU_UOBz"
   },
   "outputs": [],
   "source": [
    "import tensorflow as tf\n",
    "from tensorflow import keras\n",
    "from tensorflow.keras import layers\n",
    "from tensorflow.keras.layers import Conv2D, BatchNormalization, MaxPooling2D, Input, Activation, Dropout, Dense, GlobalAveragePooling2D\n",
    "from tensorflow.keras.callbacks import EarlyStopping, ModelCheckpoint,ReduceLROnPlateau\n",
    "from tensorflow.keras.models import Model\n",
    "from tensorflow.keras.preprocessing.image import ImageDataGenerator\n",
    "from tensorflow.keras.applications import InceptionV3\n",
    "from tensorflow.keras.utils import plot_model\n",
    "import numpy as np\n",
    "import pandas as pd\n",
    "import os\n",
    "import matplotlib.image as mpimg\n",
    "import matplotlib.pyplot as plt\n",
    "import shutil\n",
    "import cv2"
   ]
  },
  {
   "cell_type": "markdown",
   "metadata": {},
   "source": [
    "Menentukan mode fine-tuning dari model pretraining InceptionV3 (finetune-all, freeze_all, certain layer)"
   ]
  },
  {
   "cell_type": "code",
   "execution_count": null,
   "metadata": {
    "id": "lBx8AbpLZy7G"
   },
   "outputs": [],
   "source": [
    "def set_trainable(model, transfer_criteria = 'finetune_all', print_details = False):\n",
    "\n",
    "  #freeze all layers\n",
    "  if transfer_criteria == 'freeze_all':\n",
    "    for layer in model.layers:\n",
    "      layer.trainable = False\n",
    "      \n",
    "      if print_details == True:\n",
    "        print('layer name: {}, trainable {}'.format(layer.name, layer.trainable))\n",
    "\n",
    "  #finetune all layers\n",
    "  elif transfer_criteria == 'finetune_all':\n",
    "    for layer in model.layers:\n",
    "      layer.trainable = True\n",
    "\n",
    "      if print_details == True:\n",
    "        print('layer name: {}, trainable {}'.format(layer.name, layer.trainable))\n",
    "  \n",
    "  #set layers trainable from the specified layer up to the last layer\n",
    "  else:\n",
    "    trainable_condition = False\n",
    "    for layer in model.layers:\n",
    "      if layer.name == transfer_criteria:\n",
    "        trainable_condition = True\n",
    "      layer.trainable = trainable_condition\n",
    "\n",
    "      if print_details == True:\n",
    "        print('layer name: {}, trainable {}'.format(layer.name, layer.trainable))"
   ]
  },
  {
   "cell_type": "code",
   "execution_count": null,
   "metadata": {
    "id": "1rM9sIO-aKfM"
   },
   "outputs": [],
   "source": [
    "def plt_model(model):\n",
    "  \"\"\"plot model ke dalam bentuk png\"\"\"\n",
    "  plot_model(model, to_file='model_plot.png', show_shapes=True, show_layer_names=True)\n",
    "\n",
    "def create_transfer_learning_model(transferred_model):\n",
    "    \"\"\"membuat model transfer learning dari pretraining menjadi model klasifikasi anggrek\"\"\"\n",
    "  x = transferred_model.output\n",
    "  x = layers.GlobalAveragePooling2D()(x)\n",
    "  x = Dense(2, activation='softmax')(x)\n",
    "  model = Model(transferred_model.input, x)\n",
    "  return model"
   ]
  },
  {
   "cell_type": "markdown",
   "metadata": {},
   "source": [
    "Initialize Model InceptionV3 dengan weight ImageNet dan transfer criteria di layer mixed9"
   ]
  },
  {
   "cell_type": "code",
   "execution_count": null,
   "metadata": {
    "id": "AdlS7XrXZ1XL"
   },
   "outputs": [],
   "source": [
    "inception =  InceptionV3(include_top= False, \n",
    "                         weights = 'imagenet',input_tensor = None, \n",
    "                         input_shape = (75,75,3),\n",
    "                         pooling = None)\n",
    "\n",
    "set_trainable(inception, transfer_criteria = 'mixed9', print_details = True)"
   ]
  },
  {
   "cell_type": "code",
   "execution_count": null,
   "metadata": {
    "id": "u9CeGO21aQfj"
   },
   "outputs": [],
   "source": [
    "model = create_transfer_learning_model(inception)"
   ]
  },
  {
   "cell_type": "code",
   "execution_count": null,
   "metadata": {
    "id": "sdJ7AvBhdj6P"
   },
   "outputs": [],
   "source": [
    "model.summary()"
   ]
  },
  {
   "cell_type": "code",
   "execution_count": null,
   "metadata": {
    "colab": {
     "base_uri": "https://localhost:8080/"
    },
    "id": "R4HXUAFxShwR",
    "outputId": "ac4eaeef-ed7a-4893-fe5b-a4349ac8f8f4"
   },
   "outputs": [
    {
     "data": {
      "text/plain": [
       "87"
      ]
     },
     "execution_count": 65,
     "metadata": {
      "tags": []
     },
     "output_type": "execute_result"
    }
   ],
   "source": [
    "train_df = pd.read_csv(\"train.csv\")\n",
    "test_df = pd.read_csv(\"test.csv\")\n",
    "len(test_df)"
   ]
  },
  {
   "cell_type": "markdown",
   "metadata": {},
   "source": [
    "Augmentasi data menggunakan ImageDataGenerator, lalu membuat data generator untuk train dan validasi berdasarkan data csv"
   ]
  },
  {
   "cell_type": "code",
   "execution_count": null,
   "metadata": {
    "colab": {
     "base_uri": "https://localhost:8080/"
    },
    "id": "qajNkEaUaVFb",
    "outputId": "f89794a3-ef55-4b1e-f62c-0f757320552c"
   },
   "outputs": [
    {
     "name": "stdout",
     "output_type": "stream",
     "text": [
      "Found 369 validated image filenames belonging to 2 classes.\n",
      "Found 122 validated image filenames belonging to 2 classes.\n"
     ]
    }
   ],
   "source": [
    "train_datagen = ImageDataGenerator(rescale=1.0/255,\n",
    "                                  validation_split = 0.25,\n",
    "                                  zoom_range=0.1,  \n",
    "                                  horizontal_flip=True,\n",
    "                                  vertical_flip=True)\n",
    "\n",
    "train_generator = train_datagen.flow_from_dataframe(train_df,\n",
    "                                                    directory = None,\n",
    "                                                    x_col=\"images_id\",\n",
    "                                                    y_col=\"labels\",\n",
    "                                                    target_size=(75,75),\n",
    "                                                    color_mode=\"rgb\",\n",
    "                                                    class_mode=\"categorical\",\n",
    "                                                    batch_size=32, \n",
    "                                                    shuffle=True,\n",
    "                                                    subset=\"training\")\n",
    "\n",
    "valid_generator = train_datagen.flow_from_dataframe(train_df,\n",
    "                                                    x_col=\"images_id\",\n",
    "                                                    y_col=\"labels\",\n",
    "                                                    directory = None,\n",
    "                                                    target_size=(75,75),\n",
    "                                                    color_mode=\"rgb\",\n",
    "                                                    class_mode=\"categorical\",\n",
    "                                                    batch_size=32, \n",
    "                                                    shuffle=True,\n",
    "                                                    subset=\"validation\")"
   ]
  },
  {
   "cell_type": "markdown",
   "metadata": {},
   "source": [
    "Membuat data generator untuk data testing"
   ]
  },
  {
   "cell_type": "code",
   "execution_count": null,
   "metadata": {
    "colab": {
     "base_uri": "https://localhost:8080/"
    },
    "id": "DCo0_aSTSY5O",
    "outputId": "1d0e6616-9787-44cf-dc18-2a41ca4a3c48"
   },
   "outputs": [
    {
     "name": "stdout",
     "output_type": "stream",
     "text": [
      "Found 87 validated image filenames belonging to 2 classes.\n"
     ]
    }
   ],
   "source": [
    "test_datagen = ImageDataGenerator(rescale = 1./255)\n",
    "data_flow_test = test_datagen.flow_from_dataframe(test_df,\n",
    "                                                  x_col=\"images_id\",\n",
    "                                                  y_col=\"labels\",\n",
    "                                                  target_size= (75,75),\n",
    "                                                  color_mode = 'rgb', \n",
    "                                                  class_mode = 'categorical',\n",
    "                                                  batch_size = 1, \n",
    "                                                  seed=1)"
   ]
  },
  {
   "cell_type": "code",
   "execution_count": null,
   "metadata": {
    "colab": {
     "base_uri": "https://localhost:8080/"
    },
    "id": "QrpmFyfpMKAC",
    "outputId": "011abbb5-71cc-403c-c535-f4aa059d7b3a"
   },
   "outputs": [
    {
     "data": {
      "text/plain": [
       "15"
      ]
     },
     "execution_count": 69,
     "metadata": {
      "tags": []
     },
     "output_type": "execute_result"
    }
   ],
   "source": [
    "len(data_flow_train)"
   ]
  },
  {
   "cell_type": "markdown",
   "metadata": {},
   "source": [
    "EarlyStopping = proses training berhenti ketika akurasi validasi tidak turun selama {patience} epoch\n",
    "\n",
    "ReduceLROnPlateau =  learning rate dari training akan turun ketika akurasi validasi tidak turun selama {patience} epoch\n",
    "\n",
    "ModelCheckpoint = akan menyimpan checkpoint ketika akurasi validasi mencapai titik tertinggi ketika training"
   ]
  },
  {
   "cell_type": "code",
   "execution_count": null,
   "metadata": {
    "id": "udxqAN9bpdF4"
   },
   "outputs": [],
   "source": [
    "es = EarlyStopping(monitor='val_accuracy', \n",
    "                   mode='min', \n",
    "                   verbose=1, \n",
    "                   patience=50)\n",
    "\n",
    "mc = ModelCheckpoint('best_checkpoint.h5', \n",
    "                     monitor='val_accuracy', \n",
    "                     mode='max', \n",
    "                     verbose=1,\n",
    "                     save_best_only=True)\n",
    "\n",
    "reduce_lr = ReduceLROnPlateau(monitor='val_accuracy', factor=0.04, verbose=1,mode=\"min\",patience=10)"
   ]
  },
  {
   "cell_type": "markdown",
   "metadata": {},
   "source": [
    "Loss menggunakan CategoricalCrossentropy karena data berupa category (Cornu-cervi, Lamelligera)\n",
    "Optimizer menggunakan adam dengan Learning rate 0.001 dan metrics yang digunakan adalah akurasi"
   ]
  },
  {
   "cell_type": "code",
   "execution_count": null,
   "metadata": {
    "colab": {
     "base_uri": "https://localhost:8080/"
    },
    "id": "VTZmsoQPbXoj",
    "outputId": "09c027cd-5147-4385-9bf4-414506d30a42"
   },
   "outputs": [
    {
     "name": "stderr",
     "output_type": "stream",
     "text": [
      "/usr/local/lib/python3.7/dist-packages/tensorflow/python/keras/optimizer_v2/optimizer_v2.py:375: UserWarning: The `lr` argument is deprecated, use `learning_rate` instead.\n",
      "  \"The `lr` argument is deprecated, use `learning_rate` instead.\")\n"
     ]
    }
   ],
   "source": [
    "loss = keras.losses.CategoricalCrossentropy()\n",
    "opt = keras.optimizers.Adam(lr = 0.001)\n",
    "model.compile(optimizer= opt, \n",
    "              loss = loss, \n",
    "              metrics = ['accuracy'])"
   ]
  },
  {
   "cell_type": "markdown",
   "metadata": {},
   "source": [
    "Proses Training menggunakan 100 epoch"
   ]
  },
  {
   "cell_type": "code",
   "execution_count": null,
   "metadata": {
    "colab": {
     "base_uri": "https://localhost:8080/"
    },
    "id": "GuCmq30sdLul",
    "outputId": "753a6bf1-0e87-4eab-a339-aefecbffbd71"
   },
   "outputs": [
    {
     "name": "stdout",
     "output_type": "stream",
     "text": [
      "Epoch 1/100\n",
      "14/14 [==============================] - 8s 193ms/step - loss: 0.7871 - accuracy: 0.7869 - val_loss: 1.5644 - val_accuracy: 0.8438\n",
      "\n",
      "Epoch 00001: val_accuracy improved from -inf to 0.84375, saving model to checkpoint_0.84375.h5\n",
      "Epoch 2/100\n",
      "14/14 [==============================] - 1s 75ms/step - loss: 0.2414 - accuracy: 0.9283 - val_loss: 1.2747 - val_accuracy: 0.8438\n",
      "\n",
      "Epoch 00002: val_accuracy did not improve from 0.84375\n",
      "Epoch 3/100\n",
      "14/14 [==============================] - 1s 73ms/step - loss: 0.0586 - accuracy: 0.9768 - val_loss: 4.3027 - val_accuracy: 0.7500\n",
      "\n",
      "Epoch 00003: val_accuracy did not improve from 0.84375\n",
      "Epoch 4/100\n",
      "14/14 [==============================] - 1s 73ms/step - loss: 0.0950 - accuracy: 0.9684 - val_loss: 3.9134 - val_accuracy: 0.6562\n",
      "\n",
      "Epoch 00004: val_accuracy did not improve from 0.84375\n",
      "Epoch 5/100\n",
      "14/14 [==============================] - 1s 75ms/step - loss: 0.0703 - accuracy: 0.9852 - val_loss: 3.2847 - val_accuracy: 0.7188\n",
      "\n",
      "Epoch 00005: val_accuracy did not improve from 0.84375\n",
      "Epoch 6/100\n",
      "14/14 [==============================] - 1s 75ms/step - loss: 0.0361 - accuracy: 0.9873 - val_loss: 0.9981 - val_accuracy: 0.8438\n",
      "\n",
      "Epoch 00006: val_accuracy did not improve from 0.84375\n",
      "Epoch 7/100\n",
      "14/14 [==============================] - 1s 73ms/step - loss: 0.0474 - accuracy: 0.9852 - val_loss: 0.5380 - val_accuracy: 0.9062\n",
      "\n",
      "Epoch 00007: val_accuracy improved from 0.84375 to 0.90625, saving model to checkpoint_0.90625.h5\n",
      "Epoch 8/100\n",
      "14/14 [==============================] - 1s 77ms/step - loss: 0.0314 - accuracy: 0.9810 - val_loss: 1.3018 - val_accuracy: 0.8125\n",
      "\n",
      "Epoch 00008: val_accuracy did not improve from 0.90625\n",
      "Epoch 9/100\n",
      "14/14 [==============================] - 1s 76ms/step - loss: 0.0366 - accuracy: 0.9873 - val_loss: 0.5609 - val_accuracy: 0.8438\n",
      "\n",
      "Epoch 00009: val_accuracy did not improve from 0.90625\n",
      "Epoch 10/100\n",
      "14/14 [==============================] - 1s 72ms/step - loss: 0.0223 - accuracy: 0.9958 - val_loss: 1.0935 - val_accuracy: 0.7812\n",
      "\n",
      "Epoch 00010: val_accuracy did not improve from 0.90625\n",
      "Epoch 11/100\n",
      "14/14 [==============================] - 1s 73ms/step - loss: 0.0318 - accuracy: 0.9873 - val_loss: 0.9816 - val_accuracy: 0.8125\n",
      "\n",
      "Epoch 00011: val_accuracy did not improve from 0.90625\n",
      "Epoch 12/100\n",
      "14/14 [==============================] - 1s 76ms/step - loss: 0.0151 - accuracy: 0.9937 - val_loss: 0.7424 - val_accuracy: 0.8125\n",
      "\n",
      "Epoch 00012: val_accuracy did not improve from 0.90625\n",
      "Epoch 13/100\n",
      "14/14 [==============================] - 1s 70ms/step - loss: 0.0189 - accuracy: 0.9937 - val_loss: 0.5715 - val_accuracy: 0.8750\n",
      "\n",
      "Epoch 00013: val_accuracy did not improve from 0.90625\n",
      "Epoch 14/100\n",
      "14/14 [==============================] - 1s 67ms/step - loss: 0.0303 - accuracy: 0.9895 - val_loss: 0.7058 - val_accuracy: 0.8125\n",
      "\n",
      "Epoch 00014: val_accuracy did not improve from 0.90625\n",
      "\n",
      "Epoch 00014: ReduceLROnPlateau reducing learning rate to 4.0000001899898055e-05.\n",
      "Epoch 15/100\n",
      "14/14 [==============================] - 1s 70ms/step - loss: 0.0115 - accuracy: 0.9958 - val_loss: 0.5416 - val_accuracy: 0.9062\n",
      "\n",
      "Epoch 00015: val_accuracy did not improve from 0.90625\n",
      "Epoch 16/100\n",
      "14/14 [==============================] - 1s 67ms/step - loss: 0.0116 - accuracy: 0.9958 - val_loss: 0.3607 - val_accuracy: 0.9375\n",
      "\n",
      "Epoch 00016: val_accuracy improved from 0.90625 to 0.93750, saving model to checkpoint_0.9375.h5\n",
      "Epoch 17/100\n",
      "14/14 [==============================] - 1s 70ms/step - loss: 0.0120 - accuracy: 0.9958 - val_loss: 0.3231 - val_accuracy: 0.9375\n",
      "\n",
      "Epoch 00017: val_accuracy did not improve from 0.93750\n",
      "Epoch 18/100\n",
      "14/14 [==============================] - 1s 69ms/step - loss: 0.0455 - accuracy: 0.9852 - val_loss: 0.6435 - val_accuracy: 0.8438\n",
      "\n",
      "Epoch 00018: val_accuracy did not improve from 0.93750\n",
      "Epoch 19/100\n",
      "14/14 [==============================] - 1s 68ms/step - loss: 0.0099 - accuracy: 0.9937 - val_loss: 0.2275 - val_accuracy: 0.9688\n",
      "\n",
      "Epoch 00019: val_accuracy improved from 0.93750 to 0.96875, saving model to checkpoint_0.96875.h5\n",
      "Epoch 20/100\n",
      "14/14 [==============================] - 1s 73ms/step - loss: 0.0139 - accuracy: 0.9958 - val_loss: 0.2211 - val_accuracy: 0.9375\n",
      "\n",
      "Epoch 00020: val_accuracy did not improve from 0.96875\n",
      "Epoch 21/100\n",
      "14/14 [==============================] - 1s 73ms/step - loss: 0.0164 - accuracy: 0.9937 - val_loss: 0.5185 - val_accuracy: 0.8438\n",
      "\n",
      "Epoch 00021: val_accuracy did not improve from 0.96875\n",
      "Epoch 22/100\n",
      "14/14 [==============================] - 1s 75ms/step - loss: 0.0122 - accuracy: 0.9916 - val_loss: 0.6797 - val_accuracy: 0.8438\n",
      "\n",
      "Epoch 00022: val_accuracy did not improve from 0.96875\n",
      "Epoch 23/100\n",
      "14/14 [==============================] - 1s 76ms/step - loss: 0.0135 - accuracy: 0.9937 - val_loss: 0.3614 - val_accuracy: 0.9062\n",
      "\n",
      "Epoch 00023: val_accuracy did not improve from 0.96875\n",
      "Epoch 24/100\n",
      "14/14 [==============================] - 1s 74ms/step - loss: 0.0197 - accuracy: 0.9895 - val_loss: 0.5886 - val_accuracy: 0.8125\n",
      "\n",
      "Epoch 00024: val_accuracy did not improve from 0.96875\n",
      "\n",
      "Epoch 00024: ReduceLROnPlateau reducing learning rate to 1.6000001050997525e-06.\n",
      "Epoch 25/100\n",
      "14/14 [==============================] - 1s 78ms/step - loss: 0.0152 - accuracy: 0.9937 - val_loss: 0.6556 - val_accuracy: 0.9062\n",
      "\n",
      "Epoch 00025: val_accuracy did not improve from 0.96875\n",
      "Epoch 26/100\n",
      "14/14 [==============================] - 1s 74ms/step - loss: 0.0117 - accuracy: 0.9937 - val_loss: 0.5282 - val_accuracy: 0.8750\n",
      "\n",
      "Epoch 00026: val_accuracy did not improve from 0.96875\n",
      "Epoch 27/100\n",
      "14/14 [==============================] - 1s 77ms/step - loss: 0.0136 - accuracy: 0.9916 - val_loss: 0.5055 - val_accuracy: 0.8125\n",
      "\n",
      "Epoch 00027: val_accuracy did not improve from 0.96875\n",
      "Epoch 28/100\n",
      "14/14 [==============================] - 1s 74ms/step - loss: 0.0159 - accuracy: 0.9937 - val_loss: 0.5940 - val_accuracy: 0.8438\n",
      "\n",
      "Epoch 00028: val_accuracy did not improve from 0.96875\n",
      "Epoch 29/100\n",
      "14/14 [==============================] - 1s 73ms/step - loss: 0.0075 - accuracy: 0.9979 - val_loss: 0.4916 - val_accuracy: 0.9375\n",
      "\n",
      "Epoch 00029: val_accuracy did not improve from 0.96875\n",
      "Epoch 30/100\n",
      "14/14 [==============================] - 1s 74ms/step - loss: 0.0089 - accuracy: 0.9958 - val_loss: 0.5422 - val_accuracy: 0.9062\n",
      "\n",
      "Epoch 00030: val_accuracy did not improve from 0.96875\n",
      "Epoch 31/100\n",
      "14/14 [==============================] - 1s 74ms/step - loss: 0.0059 - accuracy: 0.9979 - val_loss: 0.4702 - val_accuracy: 0.8750\n",
      "\n",
      "Epoch 00031: val_accuracy did not improve from 0.96875\n",
      "Epoch 32/100\n",
      "14/14 [==============================] - 1s 76ms/step - loss: 0.0118 - accuracy: 1.0000 - val_loss: 0.3026 - val_accuracy: 0.9375\n",
      "\n",
      "Epoch 00032: val_accuracy did not improve from 0.96875\n",
      "Epoch 33/100\n",
      "14/14 [==============================] - 1s 74ms/step - loss: 0.0202 - accuracy: 0.9895 - val_loss: 0.5251 - val_accuracy: 0.9375\n",
      "\n",
      "Epoch 00033: val_accuracy did not improve from 0.96875\n",
      "Epoch 34/100\n",
      "14/14 [==============================] - 1s 74ms/step - loss: 0.0081 - accuracy: 0.9958 - val_loss: 0.3839 - val_accuracy: 0.9375\n",
      "\n",
      "Epoch 00034: val_accuracy did not improve from 0.96875\n",
      "\n",
      "Epoch 00034: ReduceLROnPlateau reducing learning rate to 6.400000529538374e-08.\n",
      "Epoch 35/100\n",
      "14/14 [==============================] - 1s 75ms/step - loss: 0.0071 - accuracy: 0.9979 - val_loss: 0.3038 - val_accuracy: 0.9375\n",
      "\n",
      "Epoch 00035: val_accuracy did not improve from 0.96875\n",
      "Epoch 36/100\n",
      "14/14 [==============================] - 1s 75ms/step - loss: 0.0129 - accuracy: 0.9958 - val_loss: 0.1039 - val_accuracy: 0.9375\n",
      "\n",
      "Epoch 00036: val_accuracy did not improve from 0.96875\n",
      "Epoch 37/100\n",
      "14/14 [==============================] - 1s 75ms/step - loss: 0.0084 - accuracy: 0.9958 - val_loss: 0.2761 - val_accuracy: 0.9062\n",
      "\n",
      "Epoch 00037: val_accuracy did not improve from 0.96875\n",
      "Epoch 38/100\n",
      "14/14 [==============================] - 1s 76ms/step - loss: 0.0120 - accuracy: 0.9979 - val_loss: 0.3900 - val_accuracy: 0.9375\n",
      "\n",
      "Epoch 00038: val_accuracy did not improve from 0.96875\n",
      "Epoch 39/100\n",
      "14/14 [==============================] - 1s 74ms/step - loss: 0.0161 - accuracy: 0.9916 - val_loss: 0.9008 - val_accuracy: 0.8438\n",
      "\n",
      "Epoch 00039: val_accuracy did not improve from 0.96875\n",
      "Epoch 40/100\n",
      "14/14 [==============================] - 1s 75ms/step - loss: 0.0086 - accuracy: 0.9958 - val_loss: 0.6108 - val_accuracy: 0.8438\n",
      "\n",
      "Epoch 00040: val_accuracy did not improve from 0.96875\n",
      "Epoch 41/100\n",
      "14/14 [==============================] - 1s 76ms/step - loss: 0.0077 - accuracy: 0.9958 - val_loss: 0.4880 - val_accuracy: 0.8438\n",
      "\n",
      "Epoch 00041: val_accuracy did not improve from 0.96875\n",
      "Epoch 42/100\n",
      "14/14 [==============================] - 1s 72ms/step - loss: 0.0212 - accuracy: 0.9873 - val_loss: 0.3482 - val_accuracy: 0.8750\n",
      "\n",
      "Epoch 00042: val_accuracy did not improve from 0.96875\n",
      "Epoch 43/100\n",
      "14/14 [==============================] - 1s 70ms/step - loss: 0.0093 - accuracy: 0.9958 - val_loss: 0.7380 - val_accuracy: 0.8750\n",
      "\n",
      "Epoch 00043: val_accuracy did not improve from 0.96875\n",
      "Epoch 44/100\n",
      "14/14 [==============================] - 1s 70ms/step - loss: 0.0090 - accuracy: 0.9979 - val_loss: 0.1008 - val_accuracy: 0.9688\n",
      "\n",
      "Epoch 00044: val_accuracy did not improve from 0.96875\n",
      "\n",
      "Epoch 00044: ReduceLROnPlateau reducing learning rate to 2.5600002118153498e-09.\n",
      "Epoch 45/100\n",
      "14/14 [==============================] - 1s 71ms/step - loss: 0.0200 - accuracy: 0.9895 - val_loss: 0.4004 - val_accuracy: 0.8750\n",
      "\n",
      "Epoch 00045: val_accuracy did not improve from 0.96875\n",
      "Epoch 46/100\n",
      "14/14 [==============================] - 1s 69ms/step - loss: 0.0066 - accuracy: 1.0000 - val_loss: 0.9482 - val_accuracy: 0.8125\n",
      "\n",
      "Epoch 00046: val_accuracy did not improve from 0.96875\n",
      "Epoch 47/100\n",
      "14/14 [==============================] - 1s 67ms/step - loss: 0.0128 - accuracy: 0.9937 - val_loss: 0.3146 - val_accuracy: 0.9062\n",
      "\n",
      "Epoch 00047: val_accuracy did not improve from 0.96875\n",
      "Epoch 48/100\n",
      "14/14 [==============================] - 1s 68ms/step - loss: 0.0072 - accuracy: 0.9979 - val_loss: 0.5401 - val_accuracy: 0.8125\n",
      "\n",
      "Epoch 00048: val_accuracy did not improve from 0.96875\n",
      "Epoch 49/100\n",
      "14/14 [==============================] - 1s 68ms/step - loss: 0.0109 - accuracy: 0.9958 - val_loss: 1.1602 - val_accuracy: 0.7500\n",
      "\n",
      "Epoch 00049: val_accuracy did not improve from 0.96875\n",
      "Epoch 50/100\n",
      "14/14 [==============================] - 1s 67ms/step - loss: 0.0085 - accuracy: 0.9958 - val_loss: 0.2805 - val_accuracy: 0.8750\n",
      "\n",
      "Epoch 00050: val_accuracy did not improve from 0.96875\n",
      "Epoch 51/100\n",
      "14/14 [==============================] - 1s 70ms/step - loss: 0.0154 - accuracy: 0.9958 - val_loss: 0.0617 - val_accuracy: 0.9688\n",
      "\n",
      "Epoch 00051: val_accuracy did not improve from 0.96875\n",
      "Epoch 52/100\n",
      "14/14 [==============================] - 1s 69ms/step - loss: 0.0189 - accuracy: 0.9937 - val_loss: 0.3189 - val_accuracy: 0.9062\n",
      "\n",
      "Epoch 00052: val_accuracy did not improve from 0.96875\n",
      "Epoch 53/100\n",
      "14/14 [==============================] - 1s 71ms/step - loss: 0.0427 - accuracy: 0.9873 - val_loss: 0.4925 - val_accuracy: 0.8438\n",
      "\n",
      "Epoch 00053: val_accuracy did not improve from 0.96875\n",
      "Epoch 54/100\n",
      "14/14 [==============================] - 1s 70ms/step - loss: 0.0191 - accuracy: 0.9895 - val_loss: 0.7719 - val_accuracy: 0.8125\n",
      "\n",
      "Epoch 00054: val_accuracy did not improve from 0.96875\n",
      "\n",
      "Epoch 00054: ReduceLROnPlateau reducing learning rate to 1.0240000847261399e-10.\n",
      "Epoch 00054: early stopping\n"
     ]
    }
   ],
   "source": [
    "history = model.fit(data_flow_train, \n",
    "                    validation_data= data_flow_val,\n",
    "                    validation_steps = 1, \n",
    "                    steps_per_epoch = m_train/BATCH_SIZE,\n",
    "                    callbacks=[mc, es,reduce_lr],\n",
    "                    epochs = 100)"
   ]
  },
  {
   "cell_type": "markdown",
   "metadata": {},
   "source": [
    "Memilih model dari akurasi validasi tertinggi"
   ]
  },
  {
   "cell_type": "code",
   "execution_count": 1,
   "metadata": {},
   "outputs": [],
   "source": [
    "selected_model = keras.models.load_model('content/best_checkpoint.h5')"
   ]
  },
  {
   "cell_type": "code",
   "execution_count": null,
   "metadata": {
    "id": "35KNDr6rvO6a"
   },
   "outputs": [],
   "source": [
    "# selected_model = keras.models.load_model('best_model.h5')\n",
    "tf.keras.models.save_model(selected_model,'model_putik.hdf5')"
   ]
  },
  {
   "cell_type": "markdown",
   "metadata": {},
   "source": [
    "Evaluasi model terbaik dari data testing"
   ]
  },
  {
   "cell_type": "code",
   "execution_count": null,
   "metadata": {
    "colab": {
     "base_uri": "https://localhost:8080/"
    },
    "id": "iS_7RG0A85D5",
    "outputId": "b90c2fa9-7ca9-4dea-f5e8-47f313b770d9"
   },
   "outputs": [
    {
     "name": "stdout",
     "output_type": "stream",
     "text": [
      "87/87 [==============================] - 1s 17ms/step - loss: 0.1473 - accuracy: 0.9655\n"
     ]
    },
    {
     "data": {
      "text/plain": [
       "{'accuracy': 0.9655172228813171, 'loss': 0.1473056524991989}"
      ]
     },
     "execution_count": 78,
     "metadata": {
      "tags": []
     },
     "output_type": "execute_result"
    }
   ],
   "source": [
    "selected_model.evaluate(data_flow_test,return_dict=True)"
   ]
  },
  {
   "cell_type": "markdown",
   "metadata": {},
   "source": [
    "Hasil testing model dengan data testing mempunyai akurasi sebesar 96.55%"
   ]
  },
  {
   "cell_type": "markdown",
   "metadata": {},
   "source": [
    "Membuat plot dari proses training"
   ]
  },
  {
   "cell_type": "code",
   "execution_count": null,
   "metadata": {
    "colab": {
     "base_uri": "https://localhost:8080/",
     "height": 265
    },
    "id": "6XTj-c4ke9I0",
    "outputId": "d4136ec5-4b77-4a84-aa10-c18745c1370e"
   },
   "outputs": [
    {
     "data": {
      "image/png": "[encoded data removed]",
      "text/plain": [
       "<Figure size 432x288 with 1 Axes>"
      ]
     },
     "metadata": {
      "needs_background": "light",
      "tags": []
     },
     "output_type": "display_data"
    }
   ],
   "source": [
    "acc = history.history['accuracy']\n",
    "val_acc = history.history['val_accuracy']\n",
    "plt.plot(acc)\n",
    "plt.plot(val_acc)\n",
    "plt.legend(['acc', 'acc_val'])\n",
    "plt.show()"
   ]
  }
 ],
 "metadata": {
  "accelerator": "GPU",
  "colab": {
   "collapsed_sections": [],
   "name": "training.ipynb",
   "provenance": []
  },
  "kernelspec": {
   "display_name": "Python 3",
   "language": "python",
   "name": "python3"
  },
  "language_info": {
   "codemirror_mode": {
    "name": "ipython",
    "version": 3
   },
   "file_extension": ".py",
   "mimetype": "text/x-python",
   "name": "python",
   "nbconvert_exporter": "python",
   "pygments_lexer": "ipython3",
   "version": "3.8.5"
  }
 },
 "nbformat": 4,
 "nbformat_minor": 1
}
